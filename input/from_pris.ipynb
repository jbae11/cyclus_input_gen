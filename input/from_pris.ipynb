{
 "cells": [
  {
   "cell_type": "markdown",
   "metadata": {},
   "source": [
    "# from_pris Example"
   ]
  },
  {
   "cell_type": "markdown",
   "metadata": {},
   "source": [
    "This Jupyter notebook shows examples of generating a full Cyclus input file using the `from_pris` module from this package. This example will:\n",
    "* Generate Cyclus input file for historical nuclear operation of France and Germany from 1970 to 2000"
   ]
  },
  {
   "cell_type": "code",
   "execution_count": 1,
   "metadata": {},
   "outputs": [],
   "source": [
    "import cyclus_input_gen.from_pris as fp"
   ]
  },
  {
   "cell_type": "code",
   "execution_count": 2,
   "metadata": {},
   "outputs": [
    {
     "name": "stdout",
     "output_type": "stream",
     "text": [
      "Rendering 94 reactors..\n"
     ]
    },
    {
     "data": {
      "text/plain": [
       "<cyclus_input_gen.from_pris.from_pris at 0x7f7d1bcbc9a0>"
      ]
     },
     "execution_count": 2,
     "metadata": {},
     "output_type": "execute_result"
    }
   ],
   "source": [
    "fp.from_pris(#csv_file='/Users/4ib/Desktop/git/fuel_cycle_sa_uq_opt/data/legacy_fleet/reactors_pris_2016.csv',\n",
    "             csv_file='/home/4ib/git/cyclus_input_gen/database/reactors_pris_2016.csv',\n",
    "             init_date=20210101,\n",
    "             duration=(2100-1970)*12,\n",
    "             country_list=['United States'],\n",
    "             reprocessing=False,\n",
    "             special='')"
   ]
  },
  {
   "cell_type": "code",
   "execution_count": null,
   "metadata": {},
   "outputs": [],
   "source": [
    "! cat complete_input.xml"
   ]
  },
  {
   "cell_type": "code",
   "execution_count": null,
   "metadata": {},
   "outputs": [],
   "source": []
  },
  {
   "cell_type": "code",
   "execution_count": null,
   "metadata": {},
   "outputs": [],
   "source": []
  }
 ],
 "metadata": {
  "kernelspec": {
   "display_name": "Python 3",
   "language": "python",
   "name": "python3"
  },
  "language_info": {
   "codemirror_mode": {
    "name": "ipython",
    "version": 3
   },
   "file_extension": ".py",
   "mimetype": "text/x-python",
   "name": "python",
   "nbconvert_exporter": "python",
   "pygments_lexer": "ipython3",
   "version": "3.8.3"
  }
 },
 "nbformat": 4,
 "nbformat_minor": 2
}
